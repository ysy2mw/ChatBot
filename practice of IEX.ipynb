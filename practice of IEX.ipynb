{
 "cells": [
  {
   "cell_type": "code",
   "execution_count": 4,
   "metadata": {},
   "outputs": [
    {
     "name": "stdout",
     "output_type": "stream",
     "text": [
      "█\r"
     ]
    }
   ],
   "source": [
    "from wxpy import *"
   ]
  },
  {
   "cell_type": "code",
   "execution_count": 5,
   "metadata": {},
   "outputs": [
    {
     "name": "stderr",
     "output_type": "stream",
     "text": [
      "Getting uuid of QR code.\n",
      "Downloading QR code.\n",
      "Please scan the QR code to log in.\n",
      "Please press confirm on your phone.\n",
      "Loading the contact, this may take a little while.\n",
      "Login successfully as 杨少宇\n"
     ]
    }
   ],
   "source": [
    "bot = Bot()"
   ]
  },
  {
   "cell_type": "code",
   "execution_count": 107,
   "metadata": {},
   "outputs": [],
   "source": [
    "my_self = bot.self"
   ]
  },
  {
   "cell_type": "code",
   "execution_count": 108,
   "metadata": {},
   "outputs": [],
   "source": [
    "my_friend = bot.friends().search('淡渃花逝')[0]\n",
    "# 缺陷1：无法针对某一个好友进行回复和识别"
   ]
  },
  {
   "cell_type": "code",
   "execution_count": null,
   "metadata": {},
   "outputs": [],
   "source": [
    "my_friend.send('start')"
   ]
  },
  {
   "cell_type": "code",
   "execution_count": 110,
   "metadata": {},
   "outputs": [],
   "source": [
    "from iexfinance import Stock\n",
    "from iexfinance import get_historical_data\n",
    "from datetime import datetime\n",
    "import matplotlib.pyplot as plt\n",
    "from iexfinance import get_available_symbols\n",
    "from iexfinance import get_market_tops"
   ]
  },
  {
   "cell_type": "code",
   "execution_count": 111,
   "metadata": {},
   "outputs": [
    {
     "name": "stdout",
     "output_type": "stream",
     "text": [
      "Fitting 2 folds for each of 6 candidates, totalling 12 fits\n"
     ]
    },
    {
     "name": "stderr",
     "output_type": "stream",
     "text": [
      "[Parallel(n_jobs=1)]: Done  12 out of  12 | elapsed:    0.0s finished\n"
     ]
    }
   ],
   "source": [
    "import spacy\n",
    "nlp = spacy.load('en_core_web_md')\n",
    "from rasa_nlu.training_data import load_data\n",
    "from rasa_nlu.config import RasaNLUModelConfig\n",
    "from rasa_nlu.model import Trainer\n",
    "from rasa_nlu import config\n",
    "trainer = Trainer(config.load('/home/yang/文档/course/Work/nlu_config.yml'))\n",
    "training_data = load_data('/home/yang/文档/course/Work/testData1.json')\n",
    "interpreter = trainer.train(training_data)"
   ]
  },
  {
   "cell_type": "code",
   "execution_count": 121,
   "metadata": {},
   "outputs": [
    {
     "name": "stdout",
     "output_type": "stream",
     "text": [
      "Hi\n",
      "Hellow , i'm a robot who can tell you many information about stock 0\n",
      "Hellow , i'm a robot who can tell you many information about stock\n"
     ]
    }
   ],
   "source": [
    "@bot.register(my_friend)\n",
    "\n",
    "def reply_my_friend(msg):\n",
    "    \n",
    "    state = INIT\n",
    "    new_state,response = send_message(state,msg.text)\n",
    "    \n",
    "    \n",
    "    return '{}'.format(response)"
   ]
  },
  {
   "cell_type": "code",
   "execution_count": 113,
   "metadata": {},
   "outputs": [],
   "source": [
    "import re\n",
    "\n",
    "def kk(a):\n",
    "    if \"stock_search\" in a:\n",
    "        a_0 = ['price', 'cap', 'volume', 'open']\n",
    "        from random import choice\n",
    "        return choice(a_0) \n",
    "    else :\n",
    "        a_1 = re.sub(r'(_search)',\"\",a)\n",
    "        return a_1 "
   ]
  },
  {
   "cell_type": "code",
   "execution_count": 114,
   "metadata": {},
   "outputs": [],
   "source": [
    "def chengfenhuoqu(aaa):\n",
    "    \n",
    "    data = interpreter.parse(aaa)\n",
    "    itt_1= kk(data[\"intent\"]['name'])\n",
    "    \n",
    "    if itt_1 == 'cap' :\n",
    "        itt_1 = 'market_cap'    \n",
    "    \n",
    "    params={}\n",
    "    for ent in data[\"entities\"]:\n",
    "        params[ent[\"entity\"]]=ent[\"value\"]\n",
    "        companyname = params['company']\n",
    "    cpn = companyname\n",
    "    \n",
    "    return itt_1 , cpn"
   ]
  },
  {
   "cell_type": "code",
   "execution_count": 115,
   "metadata": {},
   "outputs": [],
   "source": [
    "def huifuneirong(cpn_1,itt_2):\n",
    "    \n",
    "    if itt_2 == 'cap':\n",
    "        itt_2 = 'market_cap'\n",
    "    \n",
    "    stk = Stock('{}'.format(cpn_1))\n",
    "    pa_1 = \"stk.get_{}()\".format(itt_2)\n",
    "    \n",
    "    a = eval(pa_1)\n",
    "    \n",
    "    if itt_2 == 'market_cap' :\n",
    "        itt_2 = 'cap'\n",
    "    if itt_2 == 'open':\n",
    "        itt_2 = 'open price'\n",
    "    if itt_2 == 'volume':\n",
    "        itt_2 = 'exchange volume'\n",
    "    \n",
    "    date_get = stk.get_quote(filter_='latestTime')['latestTime']\n",
    "    \n",
    "    ans = 'The {} of {} was {} in {} '.format(itt_2,cpn_1,a,date_get)\n",
    "    \n",
    "    return ans"
   ]
  },
  {
   "cell_type": "code",
   "execution_count": 120,
   "metadata": {},
   "outputs": [],
   "source": [
    "import string\n",
    "\n",
    "INIT = 0\n",
    "GS = 1\n",
    "IFMT = 2\n",
    "OTHER = 3\n",
    "FINAL = 4\n",
    "\n",
    "global old_cpn\n",
    "\n",
    "def send_message(state,message):    \n",
    "#    print(message)\n",
    "    #state = INIT\n",
    "    if fenxijuzi(message) == \"deny\" or fenxijuzi(message) == \"affirm\":\n",
    "        state = OTHER\n",
    "    new_state, response = respond(state, message)\n",
    "    anse=response\n",
    "#    print(response,new_state)\n",
    "    finalrespond = response\n",
    "    if new_state == 3:\n",
    "        itt,cpn = chengfenhuoqu(message)\n",
    "        print(itt,cpn)\n",
    "        anse = huifuneirong(cpn,itt)\n",
    "        print(anse)\n",
    "        finalrespond = response.format(anse)\n",
    "        print(finalrespond)\n",
    "#    print(finalrespond)\n",
    "    return  new_state,finalrespond\n",
    "\n",
    "def respond(state, message):\n",
    "    (new_state, response) = policy[(state, fenxijuzi(message))]\n",
    "    return new_state, response\n",
    "\n",
    "policy = {\n",
    "    (INIT, \"greet\"):(INIT, \"Hellow , i'm a robot who can tell you many information about stock\"),\n",
    "    (INIT, \"getsymbol\"):(OTHER, \"Ok , i can provide you some information of that stock, just like...{},do you need other information ?\"),\n",
    "    (INIT, \"getkind\"):(OTHER, \"{} , do you need other information ?\"),\n",
    "    (OTHER, \"affirm\"):(INIT, \"well , tell me more\"),\n",
    "    (OTHER, \"deny\"):(FINAL, \"OK , good luck , bye\"),\n",
    "}\n"
   ]
  },
  {
   "cell_type": "code",
   "execution_count": 119,
   "metadata": {},
   "outputs": [],
   "source": [
    "def fenxijuzi(sss):\n",
    "    data = interpreter.parse(sss)\n",
    "    itt_1 = data[\"intent\"]['name']\n",
    "    msg = sss.lower()\n",
    "    \n",
    "    \n",
    "    if msg == \"no\" or msg == \"no thanks\":\n",
    "        return 'deny'\n",
    "    if msg == \"yes\" or msg == \"sure\" or msg == \"ok\":\n",
    "        return 'affirm'\n",
    "    if itt_1 == \"greet\":\n",
    "        return 'greet'\n",
    "    if itt_1 == \"stock_search\":\n",
    "        return 'getsymbol'\n",
    "    if itt_1 == \"cap_search\" or itt_1 == \"volume_search\" or itt_1 == \"price_search\":\n",
    "        return 'getkind'\n",
    "    "
   ]
  }
 ],
 "metadata": {
  "kernelspec": {
   "display_name": "Python 3",
   "language": "python",
   "name": "python3"
  },
  "language_info": {
   "codemirror_mode": {
    "name": "ipython",
    "version": 3
   },
   "file_extension": ".py",
   "mimetype": "text/x-python",
   "name": "python",
   "nbconvert_exporter": "python",
   "pygments_lexer": "ipython3",
   "version": "3.6.5"
  }
 },
 "nbformat": 4,
 "nbformat_minor": 2
}
